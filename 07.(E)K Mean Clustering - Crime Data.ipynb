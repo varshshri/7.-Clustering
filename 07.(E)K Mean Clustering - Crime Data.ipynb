{
 "cells": [
  {
   "cell_type": "markdown",
   "id": "d73f7385",
   "metadata": {},
   "source": [
    "# K Mean Clustering - Crime Data"
   ]
  },
  {
   "cell_type": "code",
   "execution_count": 2,
   "id": "dadac6b2",
   "metadata": {
    "ExecuteTime": {
     "end_time": "2021-12-07T03:49:34.840037Z",
     "start_time": "2021-12-07T03:49:34.835181Z"
    }
   },
   "outputs": [],
   "source": [
    "#import modules\n",
    "import pandas as pd \n",
    "import numpy as np\n",
    "import matplotlib.pyplot as plt\n"
   ]
  },
  {
   "cell_type": "code",
   "execution_count": 5,
   "id": "f766fc7c",
   "metadata": {
    "ExecuteTime": {
     "end_time": "2021-12-07T03:50:50.178219Z",
     "start_time": "2021-12-07T03:50:50.162899Z"
    }
   },
   "outputs": [
    {
     "data": {
      "text/html": [
       "<div>\n",
       "<style scoped>\n",
       "    .dataframe tbody tr th:only-of-type {\n",
       "        vertical-align: middle;\n",
       "    }\n",
       "\n",
       "    .dataframe tbody tr th {\n",
       "        vertical-align: top;\n",
       "    }\n",
       "\n",
       "    .dataframe thead th {\n",
       "        text-align: right;\n",
       "    }\n",
       "</style>\n",
       "<table border=\"1\" class=\"dataframe\">\n",
       "  <thead>\n",
       "    <tr style=\"text-align: right;\">\n",
       "      <th></th>\n",
       "      <th>Unnamed: 0</th>\n",
       "      <th>Murder</th>\n",
       "      <th>Assault</th>\n",
       "      <th>UrbanPop</th>\n",
       "      <th>Rape</th>\n",
       "    </tr>\n",
       "  </thead>\n",
       "  <tbody>\n",
       "    <tr>\n",
       "      <th>0</th>\n",
       "      <td>Alabama</td>\n",
       "      <td>13.2</td>\n",
       "      <td>236</td>\n",
       "      <td>58</td>\n",
       "      <td>21.2</td>\n",
       "    </tr>\n",
       "    <tr>\n",
       "      <th>1</th>\n",
       "      <td>Alaska</td>\n",
       "      <td>10.0</td>\n",
       "      <td>263</td>\n",
       "      <td>48</td>\n",
       "      <td>44.5</td>\n",
       "    </tr>\n",
       "    <tr>\n",
       "      <th>2</th>\n",
       "      <td>Arizona</td>\n",
       "      <td>8.1</td>\n",
       "      <td>294</td>\n",
       "      <td>80</td>\n",
       "      <td>31.0</td>\n",
       "    </tr>\n",
       "    <tr>\n",
       "      <th>3</th>\n",
       "      <td>Arkansas</td>\n",
       "      <td>8.8</td>\n",
       "      <td>190</td>\n",
       "      <td>50</td>\n",
       "      <td>19.5</td>\n",
       "    </tr>\n",
       "    <tr>\n",
       "      <th>4</th>\n",
       "      <td>California</td>\n",
       "      <td>9.0</td>\n",
       "      <td>276</td>\n",
       "      <td>91</td>\n",
       "      <td>40.6</td>\n",
       "    </tr>\n",
       "  </tbody>\n",
       "</table>\n",
       "</div>"
      ],
      "text/plain": [
       "   Unnamed: 0  Murder  Assault  UrbanPop  Rape\n",
       "0     Alabama    13.2      236        58  21.2\n",
       "1      Alaska    10.0      263        48  44.5\n",
       "2     Arizona     8.1      294        80  31.0\n",
       "3    Arkansas     8.8      190        50  19.5\n",
       "4  California     9.0      276        91  40.6"
      ]
     },
     "execution_count": 5,
     "metadata": {},
     "output_type": "execute_result"
    }
   ],
   "source": [
    "#load data crime data set and view it \n",
    "data=pd.read_csv(\"crime_data.csv\")\n",
    "data.head()"
   ]
  },
  {
   "cell_type": "markdown",
   "id": "4c64cc84",
   "metadata": {},
   "source": [
    "## Min Max"
   ]
  },
  {
   "cell_type": "code",
   "execution_count": 8,
   "id": "56e0f54a",
   "metadata": {
    "ExecuteTime": {
     "end_time": "2021-12-07T03:55:30.077187Z",
     "start_time": "2021-12-07T03:55:30.070483Z"
    }
   },
   "outputs": [],
   "source": [
    "from sklearn.preprocessing import MinMaxScaler\n"
   ]
  },
  {
   "cell_type": "code",
   "execution_count": 10,
   "id": "c6e8a6bb",
   "metadata": {
    "ExecuteTime": {
     "end_time": "2021-12-07T03:55:39.729908Z",
     "start_time": "2021-12-07T03:55:39.724362Z"
    }
   },
   "outputs": [],
   "source": [
    "data=data.iloc[:,1:]\n"
   ]
  },
  {
   "cell_type": "code",
   "execution_count": 12,
   "id": "7ea12e81",
   "metadata": {
    "ExecuteTime": {
     "end_time": "2021-12-07T03:55:49.916582Z",
     "start_time": "2021-12-07T03:55:49.900554Z"
    }
   },
   "outputs": [],
   "source": [
    "norm=MinMaxScaler()  \n"
   ]
  },
  {
   "cell_type": "code",
   "execution_count": 14,
   "id": "975866a8",
   "metadata": {
    "ExecuteTime": {
     "end_time": "2021-12-07T04:01:39.691274Z",
     "start_time": "2021-12-07T04:01:39.684073Z"
    }
   },
   "outputs": [
    {
     "data": {
      "text/plain": [
       "MinMaxScaler()"
      ]
     },
     "execution_count": 14,
     "metadata": {},
     "output_type": "execute_result"
    }
   ],
   "source": [
    "norm.fit(data)\n"
   ]
  },
  {
   "cell_type": "code",
   "execution_count": 16,
   "id": "7a1d3e6e",
   "metadata": {
    "ExecuteTime": {
     "end_time": "2021-12-07T04:01:46.890587Z",
     "start_time": "2021-12-07T04:01:46.884111Z"
    }
   },
   "outputs": [],
   "source": [
    "norm_data = norm.transform(data)\n"
   ]
  },
  {
   "cell_type": "code",
   "execution_count": 18,
   "id": "abedcb41",
   "metadata": {
    "ExecuteTime": {
     "end_time": "2021-12-07T04:01:54.787897Z",
     "start_time": "2021-12-07T04:01:54.772475Z"
    }
   },
   "outputs": [
    {
     "data": {
      "text/plain": [
       "numpy.ndarray"
      ]
     },
     "execution_count": 18,
     "metadata": {},
     "output_type": "execute_result"
    }
   ],
   "source": [
    "#type\n",
    "type(norm_data)"
   ]
  },
  {
   "cell_type": "code",
   "execution_count": 20,
   "id": "82442422",
   "metadata": {
    "ExecuteTime": {
     "end_time": "2021-12-07T04:02:02.193682Z",
     "start_time": "2021-12-07T04:02:02.188144Z"
    }
   },
   "outputs": [],
   "source": [
    "#Kmean module from sklearn \n",
    "from sklearn.cluster import KMeans"
   ]
  },
  {
   "cell_type": "code",
   "execution_count": 22,
   "id": "a7bd10f0",
   "metadata": {
    "ExecuteTime": {
     "end_time": "2021-12-07T04:02:14.782984Z",
     "start_time": "2021-12-07T04:02:14.775839Z"
    }
   },
   "outputs": [],
   "source": [
    "#cdistance from scipy spatial distance\n",
    "from scipy.spatial.distance import cdist"
   ]
  },
  {
   "cell_type": "code",
   "execution_count": 24,
   "id": "e5ebdd14",
   "metadata": {
    "ExecuteTime": {
     "end_time": "2021-12-07T04:02:21.810843Z",
     "start_time": "2021-12-07T04:02:21.802820Z"
    }
   },
   "outputs": [],
   "source": [
    "k_mean = list(range(2,15))"
   ]
  },
  {
   "cell_type": "code",
   "execution_count": 26,
   "id": "fb51ac75",
   "metadata": {
    "ExecuteTime": {
     "end_time": "2021-12-07T04:02:37.091370Z",
     "start_time": "2021-12-07T04:02:36.211173Z"
    }
   },
   "outputs": [
    {
     "data": {
      "image/png": "[encoded data removed]",
      "text/plain": [
       "<Figure size 432x288 with 1 Axes>"
      ]
     },
     "metadata": {
      "needs_background": "light"
     },
     "output_type": "display_data"
    }
   ],
   "source": [
    "k_mean\n",
    "TWSS = [] # variable for storing total within sum of squares for each kmeans \n",
    "for i in k_mean:\n",
    "    kmeans = KMeans(n_clusters = i)\n",
    "    kmeans.fit(norm_data)\n",
    "    WSS = [] # variable for storing within sum of squares for each cluster  \n",
    "    for j in range(i):\n",
    "       j\n",
    "       WSS.append(sum(cdist(norm_data[kmeans.labels_==j,:],\n",
    "        kmeans.cluster_centers_[j].reshape(1,norm_data.shape[1]),\"euclidean\")))\n",
    "    TWSS.append(sum(WSS))    \n",
    "\n",
    "plt.plot(TWSS, 'ro-')\n",
    "plt.xlabel(\"No_of_Clusters\")\n",
    "plt.ylabel(\"total_within_SS\")\n",
    "plt.xticks(k_mean)\n",
    "plt.show() "
   ]
  },
  {
   "cell_type": "markdown",
   "id": "e0525410",
   "metadata": {},
   "source": [
    "###### now considering number of clusters =4 as analysed in the elbow plot\n",
    "\n"
   ]
  },
  {
   "cell_type": "code",
   "execution_count": 28,
   "id": "ef02b7f8",
   "metadata": {
    "ExecuteTime": {
     "end_time": "2021-12-07T04:03:04.263154Z",
     "start_time": "2021-12-07T04:03:04.231611Z"
    }
   },
   "outputs": [
    {
     "data": {
      "text/plain": [
       "KMeans(n_clusters=4)"
      ]
     },
     "execution_count": 28,
     "metadata": {},
     "output_type": "execute_result"
    }
   ],
   "source": [
    "model = KMeans(n_clusters = 4)\n",
    "model.fit(norm_data)"
   ]
  },
  {
   "cell_type": "code",
   "execution_count": 30,
   "id": "b559b252",
   "metadata": {
    "ExecuteTime": {
     "end_time": "2021-12-07T04:03:18.353662Z",
     "start_time": "2021-12-07T04:03:18.337618Z"
    }
   },
   "outputs": [],
   "source": [
    "model.labels_\n",
    "series_array=pd.Series(model.labels_)\n",
    "data[\"clust\"]=series_array\n",
    "\n",
    "cluster1=data.iloc[:,1:4].groupby(data.clust).mean()"
   ]
  },
  {
   "cell_type": "code",
   "execution_count": 31,
   "id": "a38d204f",
   "metadata": {
    "ExecuteTime": {
     "end_time": "2021-12-07T04:03:29.863223Z",
     "start_time": "2021-12-07T04:03:29.840002Z"
    }
   },
   "outputs": [
    {
     "data": {
      "text/html": [
       "<div>\n",
       "<style scoped>\n",
       "    .dataframe tbody tr th:only-of-type {\n",
       "        vertical-align: middle;\n",
       "    }\n",
       "\n",
       "    .dataframe tbody tr th {\n",
       "        vertical-align: top;\n",
       "    }\n",
       "\n",
       "    .dataframe thead th {\n",
       "        text-align: right;\n",
       "    }\n",
       "</style>\n",
       "<table border=\"1\" class=\"dataframe\">\n",
       "  <thead>\n",
       "    <tr style=\"text-align: right;\">\n",
       "      <th></th>\n",
       "      <th>UrbanPop</th>\n",
       "      <th>Rape</th>\n",
       "      <th>clust</th>\n",
       "    </tr>\n",
       "    <tr>\n",
       "      <th>clust</th>\n",
       "      <th></th>\n",
       "      <th></th>\n",
       "      <th></th>\n",
       "    </tr>\n",
       "  </thead>\n",
       "  <tbody>\n",
       "    <tr>\n",
       "      <th>0</th>\n",
       "      <td>76.181818</td>\n",
       "      <td>34.345455</td>\n",
       "      <td>0</td>\n",
       "    </tr>\n",
       "    <tr>\n",
       "      <th>1</th>\n",
       "      <td>74.117647</td>\n",
       "      <td>19.905882</td>\n",
       "      <td>1</td>\n",
       "    </tr>\n",
       "    <tr>\n",
       "      <th>2</th>\n",
       "      <td>52.076923</td>\n",
       "      <td>12.176923</td>\n",
       "      <td>2</td>\n",
       "    </tr>\n",
       "    <tr>\n",
       "      <th>3</th>\n",
       "      <td>55.777778</td>\n",
       "      <td>20.788889</td>\n",
       "      <td>3</td>\n",
       "    </tr>\n",
       "  </tbody>\n",
       "</table>\n",
       "</div>"
      ],
      "text/plain": [
       "        UrbanPop       Rape  clust\n",
       "clust                             \n",
       "0      76.181818  34.345455      0\n",
       "1      74.117647  19.905882      1\n",
       "2      52.076923  12.176923      2\n",
       "3      55.777778  20.788889      3"
      ]
     },
     "execution_count": 31,
     "metadata": {},
     "output_type": "execute_result"
    }
   ],
   "source": [
    "cluster1"
   ]
  }
 ],
 "metadata": {
  "kernelspec": {
   "display_name": "Python 3",
   "language": "python",
   "name": "python3"
  },
  "language_info": {
   "codemirror_mode": {
    "name": "ipython",
    "version": 3
   },
   "file_extension": ".py",
   "mimetype": "text/x-python",
   "name": "python",
   "nbconvert_exporter": "python",
   "pygments_lexer": "ipython3",
   "version": "3.8.8"
  }
 },
 "nbformat": 4,
 "nbformat_minor": 5
}
